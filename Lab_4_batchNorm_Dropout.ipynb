{
 "cells": [
  {
   "cell_type": "code",
   "execution_count": 1,
   "metadata": {},
   "outputs": [],
   "source": [
    "import torch\n",
    "from torch.utils.data import Dataset, DataLoader\n",
    "import matplotlib.pyplot as plt"
   ]
  },
  {
   "cell_type": "markdown",
   "metadata": {},
   "source": [
    "### load_digits() dataset from sklearn"
   ]
  },
  {
   "cell_type": "code",
   "execution_count": 2,
   "metadata": {},
   "outputs": [
    {
     "name": "stdout",
     "output_type": "stream",
     "text": [
      "(1797, 64)\n"
     ]
    }
   ],
   "source": [
    "from sklearn.datasets import load_digits\n",
    "\n",
    "digits = load_digits()\n",
    "print(digits.data.shape)"
   ]
  },
  {
   "cell_type": "code",
   "execution_count": 3,
   "metadata": {},
   "outputs": [
    {
     "data": {
      "text/plain": [
       "dict_keys(['data', 'target', 'frame', 'feature_names', 'target_names', 'images', 'DESCR'])"
      ]
     },
     "execution_count": 3,
     "metadata": {},
     "output_type": "execute_result"
    }
   ],
   "source": [
    "digits.keys()"
   ]
  },
  {
   "cell_type": "code",
   "execution_count": 4,
   "metadata": {},
   "outputs": [
    {
     "name": "stdout",
     "output_type": "stream",
     "text": [
      "[[ 0.  0.  5. ...  0.  0.  0.]\n",
      " [ 0.  0.  0. ... 10.  0.  0.]\n",
      " [ 0.  0.  0. ... 16.  9.  0.]\n",
      " ...\n",
      " [ 0.  0.  1. ...  6.  0.  0.]\n",
      " [ 0.  0.  2. ... 12.  0.  0.]\n",
      " [ 0.  0. 10. ... 12.  1.  0.]]\n",
      "1797\n"
     ]
    }
   ],
   "source": [
    "print(digits.data)\n",
    "print(len(digits.data))"
   ]
  },
  {
   "cell_type": "code",
   "execution_count": 5,
   "metadata": {},
   "outputs": [
    {
     "name": "stdout",
     "output_type": "stream",
     "text": [
      "[0 1 2 ... 8 9 8]\n",
      "1797\n"
     ]
    }
   ],
   "source": [
    "print(digits.target)\n",
    "print(len(digits.target))"
   ]
  },
  {
   "cell_type": "code",
   "execution_count": 6,
   "metadata": {},
   "outputs": [
    {
     "data": {
      "text/plain": [
       "<Figure size 640x480 with 0 Axes>"
      ]
     },
     "metadata": {},
     "output_type": "display_data"
    },
    {
     "data": {
      "image/png": "[encoded data removed]",
      "text/plain": [
       "<Figure size 480x480 with 1 Axes>"
      ]
     },
     "metadata": {},
     "output_type": "display_data"
    }
   ],
   "source": [
    "plt.gray()\n",
    "plt.matshow(digits.images[1])\n",
    "plt.show()"
   ]
  },
  {
   "cell_type": "code",
   "execution_count": null,
   "metadata": {},
   "outputs": [],
   "source": []
  },
  {
   "cell_type": "markdown",
   "metadata": {},
   "source": [
    "### MLP class with option to use Dropout and Batch normalization"
   ]
  },
  {
   "cell_type": "code",
   "execution_count": 64,
   "metadata": {},
   "outputs": [],
   "source": [
    "class MLP(torch.nn.Module):\n",
    "    def __init__(self, layers_count, layers_sizes, activations, dropout_in_layers=None, batchNorm=None):\n",
    "        # dropout_in_layer = [p1, p2, p3, ...]\n",
    "        # batchNorm = [True, False, True, ...]\n",
    "\n",
    "        super().__init__()\n",
    "        self.layers_count = layers_count\n",
    "        self.layers_sizes = layers_sizes\n",
    "        self.activations = activations\n",
    "        self.dropout_in_layers = dropout_in_layers\n",
    "        self.batchNorm = batchNorm\n",
    "        self.layers = torch.nn.Sequential()\n",
    "\n",
    "        for i in range(self.layers_count - 1):\n",
    "            layer = torch.nn.Linear(in_features=self.layers_sizes[i], out_features=self.layers_sizes[i+1])\n",
    "            self.layers.append(layer)\n",
    "            self.layers.append(self.activations[i])\n",
    "            if (self.batchNorm):\n",
    "                if (self.batchNorm[i]):\n",
    "                    self.layers.append(torch.nn.BatchNorm1d(self.layers_sizes[i+1]))\n",
    "            if (self.dropout_in_layers):\n",
    "                if (self.dropout_in_layers[i]):\n",
    "                    torch.nn.Dropout(p=dropout_in_layers[i])\n",
    "\n",
    "\n",
    "    def forward(self, x):\n",
    "        return self.layers(x)\n",
    "    "
   ]
  },
  {
   "cell_type": "code",
   "execution_count": 20,
   "metadata": {},
   "outputs": [],
   "source": [
    "class DigitsDataset(Dataset):\n",
    "    def __init__(self, X, labels):\n",
    "        # convert into Pytorch tensors\n",
    "        self.X = torch.from_numpy(X).to(dtype=torch.float32)\n",
    "        self.labels = torch.from_numpy(labels).to(dtype=torch.float32)\n",
    "\n",
    "    def __len__(self):\n",
    "        return len(self.X)\n",
    "    \n",
    "    def __getitem__(self, index):\n",
    "        # return super().__getitem__(index)\n",
    "        return (self.X[index], self.labels[index])\n"
   ]
  },
  {
   "cell_type": "code",
   "execution_count": 18,
   "metadata": {},
   "outputs": [
    {
     "name": "stdout",
     "output_type": "stream",
     "text": [
      "[[ 0.  0.  5. ...  0.  0.  0.]\n",
      " [ 0.  0.  0. ... 10.  0.  0.]\n",
      " [ 0.  0.  0. ... 16.  9.  0.]\n",
      " ...\n",
      " [ 0.  0.  1. ...  6.  0.  0.]\n",
      " [ 0.  0.  2. ... 12.  0.  0.]\n",
      " [ 0.  0. 10. ... 12.  1.  0.]]\n",
      "[0 1 2 ... 8 9 8]\n"
     ]
    }
   ],
   "source": [
    "X = digits.data\n",
    "y = digits.target\n",
    "\n",
    "print(X)\n",
    "print(y)"
   ]
  },
  {
   "cell_type": "markdown",
   "metadata": {},
   "source": [
    "### Testing MLP class using load_digits() dataset from sklearn"
   ]
  },
  {
   "cell_type": "code",
   "execution_count": 19,
   "metadata": {},
   "outputs": [],
   "source": [
    "from sklearn.model_selection import train_test_split"
   ]
  },
  {
   "cell_type": "code",
   "execution_count": 21,
   "metadata": {},
   "outputs": [],
   "source": [
    "torch.manual_seed(42)\n",
    "\n",
    "X_train, X_test, y_train, y_test = train_test_split(X, y, test_size=0.25, random_state=42)\n",
    "\n",
    "digits_data_training = DigitsDataset(X_train, y_train)\n",
    "digits_data_testing = DigitsDataset(X_test, y_test)\n",
    "\n",
    "train_loader = DataLoader(digits_data_testing, batch_size=16, shuffle=True)\n",
    "test_loader = DataLoader(digits_data_testing, batch_size=16)\n"
   ]
  },
  {
   "cell_type": "markdown",
   "metadata": {},
   "source": [
    "#### MLP with Dropout and BatchNorm"
   ]
  },
  {
   "cell_type": "code",
   "execution_count": 65,
   "metadata": {},
   "outputs": [],
   "source": [
    "# Model initializing\n",
    "mlp = MLP(\n",
    "    4, \n",
    "    [64, 32, 16, 10], \n",
    "    [torch.nn.ReLU(), torch.nn.ReLU(), torch.nn.Softmax(dim=1)],\n",
    "    dropout_in_layers=[0.2, 0.2, None],\n",
    "    batchNorm=[True, True, True] \n",
    ")\n",
    "\n",
    "loss_function = torch.nn.CrossEntropyLoss()\n",
    "optimizer = torch.optim.Adam(mlp.parameters(), lr=0.001)"
   ]
  },
  {
   "cell_type": "code",
   "execution_count": 66,
   "metadata": {},
   "outputs": [
    {
     "name": "stdout",
     "output_type": "stream",
     "text": [
      "\n",
      "Starting Epoch 1\n",
      "Epoch 1 - Training loss: 2.1651563274449317\n",
      "\n",
      "Starting Epoch 2\n",
      "Epoch 2 - Training loss: 1.3899903955130741\n",
      "\n",
      "Starting Epoch 3\n",
      "Epoch 3 - Training loss: 1.1282913191565151\n",
      "\n",
      "Starting Epoch 4\n",
      "Epoch 4 - Training loss: 0.9460794925689697\n",
      "\n",
      "Starting Epoch 5\n",
      "Epoch 5 - Training loss: 0.905709577017817\n",
      "\n",
      "Starting Epoch 6\n",
      "Epoch 6 - Training loss: 0.893536541996331\n",
      "\n",
      "Starting Epoch 7\n",
      "Epoch 7 - Training loss: 0.8000829302031418\n",
      "\n",
      "Starting Epoch 8\n",
      "Epoch 8 - Training loss: 0.8066649683590593\n",
      "\n",
      "Starting Epoch 9\n",
      "Epoch 9 - Training loss: 0.7367044985294342\n",
      "\n",
      "Starting Epoch 10\n",
      "Epoch 10 - Training loss: 0.6886012173932174\n",
      "\n",
      "Starting Epoch 11\n",
      "Epoch 11 - Training loss: 0.729349267893824\n",
      "\n",
      "Starting Epoch 12\n",
      "Epoch 12 - Training loss: 0.6376977994524199\n",
      "\n",
      "Starting Epoch 13\n",
      "Epoch 13 - Training loss: 0.6471770272172731\n",
      "\n",
      "Starting Epoch 14\n",
      "Epoch 14 - Training loss: 0.6931796063636911\n",
      "\n",
      "Starting Epoch 15\n",
      "Epoch 15 - Training loss: 0.644521578632552\n",
      "\n",
      "Starting Epoch 16\n",
      "Epoch 16 - Training loss: 0.672138931422398\n",
      "\n",
      "Starting Epoch 17\n",
      "Epoch 17 - Training loss: 0.5989454645535042\n",
      "\n",
      "Starting Epoch 18\n",
      "Epoch 18 - Training loss: 0.558727719660463\n",
      "\n",
      "Starting Epoch 19\n",
      "Epoch 19 - Training loss: 0.6060957240647283\n",
      "\n",
      "Starting Epoch 20\n",
      "Epoch 20 - Training loss: 0.639476051618313\n",
      "\n",
      "Starting Epoch 21\n",
      "Epoch 21 - Training loss: 0.559924773101149\n",
      "\n",
      "Starting Epoch 22\n",
      "Epoch 22 - Training loss: 0.6444431420030265\n",
      "\n",
      "Starting Epoch 23\n",
      "Epoch 23 - Training loss: 0.5709795736033341\n",
      "\n",
      "Starting Epoch 24\n",
      "Epoch 24 - Training loss: 0.5749188368690425\n",
      "\n",
      "Starting Epoch 25\n",
      "Epoch 25 - Training loss: 0.5226746016535265\n",
      "\n",
      "Training has completed\n"
     ]
    }
   ],
   "source": [
    "n = len(train_loader)\n",
    "\n",
    "# Train loop\n",
    "for epoch in range(0, 25):\n",
    "    print(f'\\nStarting Epoch {epoch + 1}')\n",
    "\n",
    "    current_loss = 0.0\n",
    "\n",
    "    for images, labels in train_loader:\n",
    "        optimizer.zero_grad()\n",
    "\n",
    "        outputs = mlp(images)\n",
    "        loss = loss_function(outputs, labels.long())\n",
    "        loss.backward()\n",
    "        optimizer.step()  # update the values\n",
    "\n",
    "        current_loss += loss.item()\n",
    "\n",
    "    loss_after_epoch = current_loss / n\n",
    "    print(f\"Epoch {epoch + 1} - Training loss: {loss_after_epoch}\")\n",
    "\n",
    "print(\"\\nTraining has completed\")"
   ]
  }
 ],
 "metadata": {
  "kernelspec": {
   "display_name": "dl_venv",
   "language": "python",
   "name": "python3"
  },
  "language_info": {
   "codemirror_mode": {
    "name": "ipython",
    "version": 3
   },
   "file_extension": ".py",
   "mimetype": "text/x-python",
   "name": "python",
   "nbconvert_exporter": "python",
   "pygments_lexer": "ipython3",
   "version": "3.12.1"
  }
 },
 "nbformat": 4,
 "nbformat_minor": 2
}
