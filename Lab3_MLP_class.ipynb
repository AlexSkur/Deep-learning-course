{
  "nbformat": 4,
  "nbformat_minor": 0,
  "metadata": {
    "colab": {
      "provenance": []
    },
    "kernelspec": {
      "name": "python3",
      "display_name": "Python 3"
    },
    "language_info": {
      "name": "python"
    }
  },
  "cells": [
    {
      "cell_type": "code",
      "execution_count": 1,
      "metadata": {
        "id": "JFHm4jpR71gv"
      },
      "outputs": [],
      "source": [
        "import torch\n",
        "from torch.utils.data import Dataset, DataLoader\n",
        "import matplotlib.pyplot as plt"
      ]
    },
    {
      "cell_type": "markdown",
      "source": [
        "### load_digits() dataset from sklearn"
      ],
      "metadata": {
        "id": "S7UE7x1edf4s"
      }
    },
    {
      "cell_type": "code",
      "source": [
        "from sklearn.datasets import load_digits\n",
        "\n",
        "digits = load_digits()\n",
        "print(digits.data.shape)"
      ],
      "metadata": {
        "colab": {
          "base_uri": "https://localhost:8080/"
        },
        "id": "OzV5j6Mh-T1Y",
        "outputId": "d6f8170d-b394-4cee-fe50-806a774e6659"
      },
      "execution_count": 2,
      "outputs": [
        {
          "output_type": "stream",
          "name": "stdout",
          "text": [
            "(1797, 64)\n"
          ]
        }
      ]
    },
    {
      "cell_type": "code",
      "execution_count": 3,
      "metadata": {
        "colab": {
          "base_uri": "https://localhost:8080/"
        },
        "id": "4zgVbhObsBps",
        "outputId": "bb777e1a-70a7-4f5b-bd34-37781473187e"
      },
      "outputs": [
        {
          "output_type": "execute_result",
          "data": {
            "text/plain": [
              "dict_keys(['data', 'target', 'frame', 'feature_names', 'target_names', 'images', 'DESCR'])"
            ]
          },
          "metadata": {},
          "execution_count": 3
        }
      ],
      "source": [
        "digits.keys()"
      ]
    },
    {
      "cell_type": "code",
      "source": [
        "print(digits.data)\n",
        "print(len(digits.data))"
      ],
      "metadata": {
        "colab": {
          "base_uri": "https://localhost:8080/"
        },
        "id": "4EuQL_TT-vGo",
        "outputId": "e85f0532-f6de-42c0-93c3-54a1effa9b04"
      },
      "execution_count": 4,
      "outputs": [
        {
          "output_type": "stream",
          "name": "stdout",
          "text": [
            "[[ 0.  0.  5. ...  0.  0.  0.]\n",
            " [ 0.  0.  0. ... 10.  0.  0.]\n",
            " [ 0.  0.  0. ... 16.  9.  0.]\n",
            " ...\n",
            " [ 0.  0.  1. ...  6.  0.  0.]\n",
            " [ 0.  0.  2. ... 12.  0.  0.]\n",
            " [ 0.  0. 10. ... 12.  1.  0.]]\n",
            "1797\n"
          ]
        }
      ]
    },
    {
      "cell_type": "code",
      "execution_count": 5,
      "metadata": {
        "colab": {
          "base_uri": "https://localhost:8080/"
        },
        "id": "2bdtX3ppspui",
        "outputId": "424b37c6-ef72-441c-aadd-4acdc4174e9e"
      },
      "outputs": [
        {
          "output_type": "stream",
          "name": "stdout",
          "text": [
            "[0 1 2 ... 8 9 8]\n",
            "1797\n"
          ]
        }
      ],
      "source": [
        "print(digits.target)\n",
        "print(len(digits.target))"
      ]
    },
    {
      "cell_type": "code",
      "execution_count": 5,
      "metadata": {
        "id": "YD-9g9qJtInA"
      },
      "outputs": [],
      "source": []
    },
    {
      "cell_type": "code",
      "execution_count": 6,
      "metadata": {
        "colab": {
          "base_uri": "https://localhost:8080/",
          "height": 615
        },
        "id": "J43Q4Oya--Xs",
        "outputId": "a003cb5c-1029-4ad1-8448-edf41e3897df"
      },
      "outputs": [
        {
          "output_type": "display_data",
          "data": {
            "text/plain": [
              "<Figure size 1200x800 with 10 Axes>"
            ],
            "image/png": "[encoded data removed]"
          },
          "metadata": {}
        }
      ],
      "source": [
        "fig, axes = plt.subplots(ncols=5, nrows=2, figsize=(12, 8))\n",
        "\n",
        "plt.gray()\n",
        "num = 0\n",
        "for i in range(2):\n",
        "  for j in range(5):\n",
        "    axes[i][j].matshow(digits.images[num])\n",
        "    num += 1\n",
        "\n",
        "fig.tight_layout()\n",
        "plt.show()"
      ]
    },
    {
      "cell_type": "markdown",
      "source": [
        "### MLP class"
      ],
      "metadata": {
        "id": "B43K06oUHiKY"
      }
    },
    {
      "cell_type": "code",
      "source": [
        "class MLP(torch.nn.Module):\n",
        "  def __init__(self, layers_count, layers_sizes, activation_func_for_each_layer):\n",
        "    super().__init__()\n",
        "    self.layers_count = layers_count\n",
        "    self.layers_sizes = layers_sizes\n",
        "    self.activation_func_for_each_layer = activation_func_for_each_layer\n",
        "    self.layers = torch.nn.Sequential()\n",
        "\n",
        "    for i in range(self.layers_count - 1):\n",
        "      self.layers.append(torch.nn.Linear(in_features=self.layers_sizes[i], out_features=self.layers_sizes[i+1]))\n",
        "      self.layers.append(self.activation_func_for_each_layer[i])\n",
        "\n",
        "  def forward(self, x):\n",
        "    return self.layers(x)\n"
      ],
      "metadata": {
        "id": "0nQaqd9CBUiZ"
      },
      "execution_count": 7,
      "outputs": []
    },
    {
      "cell_type": "code",
      "source": [
        "class DigitsDataset(Dataset):\n",
        "  def __init__(self, X, labels):\n",
        "    # convert into PyTorch tensors\n",
        "    self.X = torch.from_numpy(X).to(dtype=torch.float32)\n",
        "    self.labels = torch.from_numpy(labels).to(dtype=torch.float32)\n",
        "\n",
        "  def __len__(self):\n",
        "    return len(self.X)\n",
        "\n",
        "  def __getitem__(self, idx):\n",
        "    return (self.X[idx], self.labels[idx])\n"
      ],
      "metadata": {
        "id": "0IfdLJMUC15a"
      },
      "execution_count": 66,
      "outputs": []
    },
    {
      "cell_type": "code",
      "source": [
        "X = digits.data\n",
        "y = digits.target\n",
        "\n",
        "print(X)\n",
        "print(y)"
      ],
      "metadata": {
        "colab": {
          "base_uri": "https://localhost:8080/"
        },
        "id": "M8CcpCUdDHHO",
        "outputId": "cb0e016a-e5ef-409e-83b7-1bb4ca1bc6e7"
      },
      "execution_count": 9,
      "outputs": [
        {
          "output_type": "stream",
          "name": "stdout",
          "text": [
            "[[ 0.  0.  5. ...  0.  0.  0.]\n",
            " [ 0.  0.  0. ... 10.  0.  0.]\n",
            " [ 0.  0.  0. ... 16.  9.  0.]\n",
            " ...\n",
            " [ 0.  0.  1. ...  6.  0.  0.]\n",
            " [ 0.  0.  2. ... 12.  0.  0.]\n",
            " [ 0.  0. 10. ... 12.  1.  0.]]\n",
            "[0 1 2 ... 8 9 8]\n"
          ]
        }
      ]
    },
    {
      "cell_type": "markdown",
      "source": [
        "### Testing MLP class using load_digits() dataset from sklearn"
      ],
      "metadata": {
        "id": "GJqEPjaSdO_K"
      }
    },
    {
      "cell_type": "code",
      "source": [
        "from sklearn.model_selection import train_test_split"
      ],
      "metadata": {
        "id": "rfCQfZAL0kei"
      },
      "execution_count": 64,
      "outputs": []
    },
    {
      "cell_type": "code",
      "source": [
        "X_train, X_test, y_train, y_test = train_test_split(X, y, test_size=0.25, random_state=42)\n",
        "\n",
        "digits_data_training = DigitsDataset(X_train, y_train)\n",
        "digits_data_testing = DigitsDataset(X_test, y_test)\n",
        "\n",
        "train_loader = DataLoader(digits_data_training, batch_size=16, shuffle=True)\n",
        "test_loader = DataLoader(digits_data_testing, batch_size=16)"
      ],
      "metadata": {
        "id": "NQ9J9DkMKxEA"
      },
      "execution_count": 67,
      "outputs": []
    },
    {
      "cell_type": "code",
      "source": [
        "# Model initializing\n",
        "mlp = MLP(4, [64, 32, 16, 10], [torch.nn.ReLU(), torch.nn.ReLU(), torch.nn.Softmax(dim=1)])\n",
        "\n",
        "loss_function = torch.nn.CrossEntropyLoss()\n",
        "optimizer = torch.optim.Adam(mlp.parameters(), lr=0.001)"
      ],
      "metadata": {
        "id": "ClJwr9RnRFhA"
      },
      "execution_count": 68,
      "outputs": []
    },
    {
      "cell_type": "code",
      "source": [
        "n = len(train_loader)\n",
        "\n",
        "# Train loop\n",
        "for epoch in range(0, 25):\n",
        "  print(f'\\nStarting Epoch {epoch + 1}')\n",
        "\n",
        "  current_loss = 0.0\n",
        "\n",
        "  for images, labels in train_loader:\n",
        "    optimizer.zero_grad()\n",
        "\n",
        "    outputs = mlp(images)\n",
        "    loss = loss_function(outputs, labels.long())\n",
        "    loss.backward()\n",
        "    optimizer.step()  # update the values\n",
        "\n",
        "    current_loss += loss.item()\n",
        "\n",
        "  loss_after_epoch = current_loss / n\n",
        "  print(f\"Epoch {epoch + 1} - Training loss: {loss_after_epoch}\")\n",
        "\n",
        "print(\"\\nTraining has completed\")"
      ],
      "metadata": {
        "colab": {
          "base_uri": "https://localhost:8080/"
        },
        "id": "9JHf1RHxX2Lx",
        "outputId": "fea60d68-630b-46fa-afd0-e95c486e8b54"
      },
      "execution_count": 69,
      "outputs": [
        {
          "output_type": "stream",
          "name": "stdout",
          "text": [
            "\n",
            "Starting Epoch 1\n",
            "Epoch 1 - Training loss: 2.136017416505253\n",
            "\n",
            "Starting Epoch 2\n",
            "Epoch 2 - Training loss: 1.894647558997659\n",
            "\n",
            "Starting Epoch 3\n",
            "Epoch 3 - Training loss: 1.7436171994489782\n",
            "\n",
            "Starting Epoch 4\n",
            "Epoch 4 - Training loss: 1.7044531836229213\n",
            "\n",
            "Starting Epoch 5\n",
            "Epoch 5 - Training loss: 1.6911638203789205\n",
            "\n",
            "Starting Epoch 6\n",
            "Epoch 6 - Training loss: 1.6800333387711468\n",
            "\n",
            "Starting Epoch 7\n",
            "Epoch 7 - Training loss: 1.6205716848373413\n",
            "\n",
            "Starting Epoch 8\n",
            "Epoch 8 - Training loss: 1.5983959787032183\n",
            "\n",
            "Starting Epoch 9\n",
            "Epoch 9 - Training loss: 1.5894559635835535\n",
            "\n",
            "Starting Epoch 10\n",
            "Epoch 10 - Training loss: 1.584046807008631\n",
            "\n",
            "Starting Epoch 11\n",
            "Epoch 11 - Training loss: 1.5850778944352093\n",
            "\n",
            "Starting Epoch 12\n",
            "Epoch 12 - Training loss: 1.5769778419943417\n",
            "\n",
            "Starting Epoch 13\n",
            "Epoch 13 - Training loss: 1.57425259141361\n",
            "\n",
            "Starting Epoch 14\n",
            "Epoch 14 - Training loss: 1.5758630458046408\n",
            "\n",
            "Starting Epoch 15\n",
            "Epoch 15 - Training loss: 1.5723493379705094\n",
            "\n",
            "Starting Epoch 16\n",
            "Epoch 16 - Training loss: 1.5718904761707082\n",
            "\n",
            "Starting Epoch 17\n",
            "Epoch 17 - Training loss: 1.576004665038165\n",
            "\n",
            "Starting Epoch 18\n",
            "Epoch 18 - Training loss: 1.5706855423310224\n",
            "\n",
            "Starting Epoch 19\n",
            "Epoch 19 - Training loss: 1.5678736953174366\n",
            "\n",
            "Starting Epoch 20\n",
            "Epoch 20 - Training loss: 1.5666402073467478\n",
            "\n",
            "Starting Epoch 21\n",
            "Epoch 21 - Training loss: 1.5661063530865837\n",
            "\n",
            "Starting Epoch 22\n",
            "Epoch 22 - Training loss: 1.5696988708832684\n",
            "\n",
            "Starting Epoch 23\n",
            "Epoch 23 - Training loss: 1.564939705063315\n",
            "\n",
            "Starting Epoch 24\n",
            "Epoch 24 - Training loss: 1.5652497852549834\n",
            "\n",
            "Starting Epoch 25\n",
            "Epoch 25 - Training loss: 1.5647915854173549\n",
            "\n",
            "Training has completed\n"
          ]
        }
      ]
    }
  ]
}
